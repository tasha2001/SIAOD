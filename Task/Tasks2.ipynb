{
 "cells": [
  {
   "cell_type": "markdown",
   "metadata": {},
   "source": [
    "# Набор заданий №2\n",
    "## Кочергина Наталья\n",
    "### БВТ1904"
   ]
  },
  {
   "cell_type": "markdown",
   "metadata": {},
   "source": [
    "### Задание 1 \"Треугольник с максимальным периметром.\"\n",
    "Массив `A` состоит из целых положительных чисел - длин отрезков. Составьте из трех отрезков такой треугольник, чтобы его периметр был максимально возможным. Если невозможно\n",
    "составить треугольник с положительной площадью - функция возвращает 0."
   ]
  },
  {
   "cell_type": "code",
   "execution_count": 7,
   "metadata": {},
   "outputs": [
    {
     "name": "stdout",
     "output_type": "stream",
     "text": [
      "3\n",
      "2\n",
      "1\n",
      "2\n",
      "[2, 1, 2]\n",
      "5\n"
     ]
    }
   ],
   "source": [
    "# Функция для расчета максимального периметра\n",
    "def maxPerimeter(array):\n",
    "        answer = 0\n",
    "        n = len(array)\n",
    "        # Перебираем все возможные комбинации чисел из массива по тройкам, так как иммем дело с треугольником\n",
    "        for i in range(n-2):\n",
    "            for j in range(i+1, n-1):\n",
    "                for k in range(j+1, n):\n",
    "                    a = array[i]\n",
    "                    b = array[j]\n",
    "                    c = array[k]\n",
    "                    if a<b+c and b<a+c and c<a+b:\n",
    "                        answer = max(answer, a+b+c)\n",
    "        return str(answer)\n",
    "    \n",
    "# Основная функция\n",
    "array = [0] * int(input())\n",
    "for i in range(len(array)):\n",
    "    array[i] = int(input())\n",
    "print(array)\n",
    "print(maxPerimeter(array))"
   ]
  },
  {
   "cell_type": "markdown",
   "metadata": {},
   "source": [
    "### Задание 2 \"Максимальное число.\"\n",
    "Дан массив неотрицательных целых чисел `nums`. Расположите их в таком порядке, чтобы\n",
    "вместе они образовали максимально возможное число.\n",
    "Замечание: Результат может быть очень большим числом, поэтому представьте его как\n",
    "`string`, а не `integer`."
   ]
  },
  {
   "cell_type": "code",
   "execution_count": 5,
   "metadata": {},
   "outputs": [
    {
     "name": "stdout",
     "output_type": "stream",
     "text": [
      "5\n",
      "0\n",
      "2\n",
      "6\n",
      "12\n",
      "623\n",
      "[0, 2, 6, 12, 623]\n",
      "66232120\n"
     ]
    }
   ],
   "source": [
    "# Фукнция для получения самой большой комбинации\n",
    "def highestComb(array):\n",
    "    # Получаем длинну (строковую) максимального элемента \n",
    "    maxLength = len(str(max(array)))\n",
    "    # Превращяем все числа в массиве в строки\n",
    "    K = map(str, array)\n",
    "    \n",
    "    # Функция которая при сортировке дает числам с маленькой длинной больший вес\n",
    "    def sortKey(s):\n",
    "        return s + s[-1] * (maxLength - len(s))\n",
    "    \n",
    "    # Сортируем масиив строк \n",
    "    sortedList = sorted(K, key=sortKey, reverse=True)\n",
    "    return ''.join(sortedList)\n",
    "    \n",
    "# Основаня функция\n",
    "array = [0] * int(input())\n",
    "for i in range(len(array)):\n",
    "    array[i] = (int(input()))\n",
    "print(array)\n",
    "print(highestComb(array))"
   ]
  },
  {
   "cell_type": "markdown",
   "metadata": {},
   "source": [
    "### Задание 3 \"Сортировка диагоналей в матрице.\"\n",
    "Дана матрица `mat` размером `m * n`, значения - целочисленные. Напишите функцию, сортирующую каждую диагональ матрицы по возрастанию и возвращающую получившуюся матрицу."
   ]
  },
  {
   "cell_type": "code",
   "execution_count": 6,
   "metadata": {},
   "outputs": [
    {
     "name": "stdout",
     "output_type": "stream",
     "text": [
      "11 25 66 12 69 72 \n",
      "23 55 17 45 15 52 \n",
      "75 31 36 44 58 81 \n",
      "22 27 33 25 68 44 \n",
      "84 28 14 11 85 50 \n",
      "\n",
      "11 17 44 12 52 72 \n",
      "11 25 25 45 15 69 \n",
      "14 23 36 44 58 81 \n",
      "22 27 31 55 50 66 \n",
      "84 28 75 33 85 68 \n"
     ]
    }
   ],
   "source": [
    "# Функция для вывода матрицы\n",
    "def printmatrix(matrix):\n",
    "    for i in range(len(matrix)): \n",
    "        for j in range(len(matrix[i])):\n",
    "            print(matrix[i][j], end=\" \")\n",
    "        print()\n",
    "        \n",
    "# Функция для сортировки матрицы\n",
    "def sortmatrix(matrix):\n",
    "    # Печатаем матрицу кторая пришла\n",
    "    printmatrix(matrix)\n",
    "    print()\n",
    "    # Ширина матрицы\n",
    "    w = len(matrix[0])\n",
    "    # Высота матрицы\n",
    "    h = len(matrix)\n",
    "    \n",
    "    # Создаем массив для всех значений в матрице, где у каждого будет ссылка на диагональ к которой он принадлежит \n",
    "    arrWithAllElem = [-1] * w * h\n",
    "    # Проход по матрице\n",
    "    for i in range(len(matrix)): \n",
    "        for j in range(len(matrix[i])):\n",
    "            if (arrWithAllElem[j + i * w] == -1):\n",
    "                arrWithAllElem[j + i * w] = []\n",
    "                thisDiagArr = [[i + offset, j + offset, (j+ offset) + (i + offset) * w] for offset in range(min([w,h])) if ((j + offset < w) and (i + offset < h))]\n",
    "                \n",
    "                for k in range(len(thisDiagArr)):\n",
    "                    arrWithAllElem[j + i * w].append(matrix[thisDiagArr[k][0]][thisDiagArr[k][1]])\n",
    "                    if (arrWithAllElem[thisDiagArr[k][2]] == -1):\n",
    "                        arrWithAllElem[thisDiagArr[k][2]] = arrWithAllElem[j + i * w]\n",
    "                arrWithAllElem[j + i * w].sort()\n",
    "    \n",
    "    sortedmatrix = [[0] * w for i in range(h)]\n",
    "    for i in range(len(arrWithAllElem)):\n",
    "        sortedmatrix[i//w][i%w] = arrWithAllElem[i][0];\n",
    "        arrWithAllElem[i].remove(arrWithAllElem[i][0]);\n",
    "    return sortedmatrix\n",
    "    \n",
    "\n",
    "        \n",
    "printmatrix(sortmatrix([[11, 25, 66, 12, 69, 72], [23, 55, 17, 45, 15, 52], [75, 31, 36,\n",
    "44, 58, 81], [22, 27, 33, 25, 68, 44], [84, 28, 14, 11, 85, 50]]\n",
    "))"
   ]
  }
 ],
 "metadata": {
  "kernelspec": {
   "display_name": "Python 3",
   "language": "python",
   "name": "python3"
  },
  "language_info": {
   "codemirror_mode": {
    "name": "ipython",
    "version": 3
   },
   "file_extension": ".py",
   "mimetype": "text/x-python",
   "name": "python",
   "nbconvert_exporter": "python",
   "pygments_lexer": "ipython3",
   "version": "3.8.5"
  }
 },
 "nbformat": 4,
 "nbformat_minor": 5
}
