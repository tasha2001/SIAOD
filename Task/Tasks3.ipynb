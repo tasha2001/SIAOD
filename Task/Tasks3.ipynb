{
 "cells": [
  {
   "cell_type": "markdown",
   "metadata": {},
   "source": [
    "# Набор заданий №3\n",
    "## Кочергина Наталья\n",
    "### БВТ1904"
   ]
  },
  {
   "cell_type": "markdown",
   "metadata": {},
   "source": [
    "### Задача 1\n",
    "\n",
    "Даны две строки: `s1` и `s2` с одинаковым размером. \n",
    "\n",
    "Проверьте, может ли некоторая перестановка строки `s1` “победить” некоторую перестановку строки `s2` или наоборот.\n",
    "\n",
    "Строка `x` может “победить” строку `y` (обе имеют размер `n`), если `x[i] >= y[i]` (в алфавитном порядке) для всех `i` от 0 до `n-1`."
   ]
  },
  {
   "cell_type": "code",
   "execution_count": 4,
   "metadata": {},
   "outputs": [
    {
     "name": "stdin",
     "output_type": "stream",
     "text": [
      " 12345\n",
      " 54321\n"
     ]
    },
    {
     "name": "stdout",
     "output_type": "stream",
     "text": [
      "True\n"
     ]
    }
   ],
   "source": [
    "# Функция возвращает массив со всеми возможными комбинациями\n",
    "def change(pa):\n",
    "    res = []\n",
    "    _change(pa, 0, res)\n",
    "    return res\n",
    "\n",
    "# Функция добавляет в массив с результатоми новые комбинации \n",
    "def _change(pa, i, res):\n",
    "    if i == len(pa) - 1:\n",
    "        element = ''\n",
    "        for a in pa:\n",
    "            element += str(a)\n",
    "        if element not in res:\n",
    "            res.append(element)\n",
    "    else:\n",
    "        for j in range(i, len(pa)):\n",
    "            swap(pa, i, j)\n",
    "            _change(pa, i + 1, res)\n",
    "            swap(pa, i, j)\n",
    "\n",
    "# Функция изменящая местами элементы в массиве (из конца в начало)\n",
    "def swap(pa, i, j):\n",
    "    k = pa[i]\n",
    "    pa[i] = pa[j]\n",
    "    pa[j] = k\n",
    "\n",
    "# Основное тело программы\n",
    "s1 = input() # Вводим строку S1\n",
    "s2 = input() # Вводим строку S2\n",
    "if len(s1) == len(s2):\n",
    "    array_s1 = list(s1); \n",
    "    array_s2 = list(s2);\n",
    "    perms_s1 = change(array_s1)\n",
    "    perms_s2 = change(array_s2)\n",
    "    res_s1 = []; res_s2 = []\n",
    "    for i in perms_s1:\n",
    "        for j in perms_s2:\n",
    "            c = True\n",
    "            for k in range(len(s1)):\n",
    "                if ord(i[k]) < ord(j[k]):\n",
    "                    c = False\n",
    "            if c and i not in res_s1:\n",
    "                res_s1.append(i)\n",
    "    for i in perms_s2:\n",
    "        for j in perms_s1:\n",
    "            c = True\n",
    "            for k in range(len(s1)):\n",
    "                if ord(i[k]) < ord(j[k]):\n",
    "                    c = False\n",
    "            if c and i not in res_s2:\n",
    "                res_s2.append(i)\n",
    "    print(len(res_s1) > 0 or len(res_s2) > 0)\n",
    "else:\n",
    "    print(\"Длинны строк должны совпадать!\")"
   ]
  },
  {
   "cell_type": "markdown",
   "metadata": {},
   "source": [
    "### Задача 2\n",
    "\n",
    "Дана строка `s`, вернуть самую длинную полиндромную подстроку в `s`."
   ]
  },
  {
   "cell_type": "code",
   "execution_count": 5,
   "metadata": {},
   "outputs": [
    {
     "name": "stdin",
     "output_type": "stream",
     "text": [
      " ывапав\n"
     ]
    },
    {
     "name": "stdout",
     "output_type": "stream",
     "text": [
      "вапав\n"
     ]
    }
   ],
   "source": [
    "# Функция возвращает перевернутую строку\n",
    "def reversed(str):\n",
    "    return str[::-1]\n",
    "\n",
    "# Основное тело программы\n",
    "s = input() # Вводим строку над которой будем работать\n",
    "result = '' # Результат выполнения\n",
    "for i in range(len(s)-2):\n",
    "    for j in range(i+2, len(s)+1):\n",
    "        if s[i:j] == reversed(s[i:j]):\n",
    "            if len(s[i:j]) > len(result):\n",
    "                result = s[i:j]\n",
    "            elif len(s[i:j]) == len(result):\n",
    "                result = s[i:j]\n",
    "if result == '':\n",
    "    print(\"Палиндромов нет!\") \n",
    "else: \n",
    "    print(result)"
   ]
  },
  {
   "cell_type": "markdown",
   "metadata": {},
   "source": [
    "### Задача 3\n",
    "\n",
    "Вернуть количество отдельных непустых подстрок текста, которые могут быть записаны как конкатенация некоторой строки с самой собой (т.е. она может быть записана, как `a + a`, где `a` - некоторая строка)."
   ]
  },
  {
   "cell_type": "code",
   "execution_count": 6,
   "metadata": {},
   "outputs": [
    {
     "name": "stdin",
     "output_type": "stream",
     "text": [
      " всамить\n"
     ]
    },
    {
     "name": "stdout",
     "output_type": "stream",
     "text": [
      "Подстрок нет!\n"
     ]
    }
   ],
   "source": [
    "# Основное тело программы\n",
    "s = input() # Вводим строку над которой будем работать\n",
    "result = [''] # Результат выполнения\n",
    "for i in range(len(s)-2):\n",
    "    for j in range(i+2, len(s)+1):\n",
    "        if (j - i) % 2 == 0:\n",
    "            center = (i + j) // 2\n",
    "            if s[i:center] == s[center:j] and s[i:j] not in result:\n",
    "                if len(s[i:j]) > len(result[0]):\n",
    "                    result = [s[i:j]]\n",
    "                elif len(s[i:j]) == len(result[0]):\n",
    "                    result.append(s[i:j])\n",
    "if result[0] == '': \n",
    "    print(\"Подстрок нет!\")\n",
    "else:\n",
    "    print(len(result))"
   ]
  }
 ],
 "metadata": {
  "kernelspec": {
   "display_name": "Python 3",
   "language": "python",
   "name": "python3"
  },
  "language_info": {
   "codemirror_mode": {
    "name": "ipython",
    "version": 3
   },
   "file_extension": ".py",
   "mimetype": "text/x-python",
   "name": "python",
   "nbconvert_exporter": "python",
   "pygments_lexer": "ipython3",
   "version": "3.8.5"
  }
 },
 "nbformat": 4,
 "nbformat_minor": 4
}
